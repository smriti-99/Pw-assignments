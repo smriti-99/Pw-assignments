{
  "nbformat": 4,
  "nbformat_minor": 0,
  "metadata": {
    "colab": {
      "provenance": []
    },
    "kernelspec": {
      "name": "python3",
      "display_name": "Python 3"
    },
    "language_info": {
      "name": "python"
    }
  },
  "cells": [
    {
      "cell_type": "markdown",
      "source": [
        "### 1. Explain the key features of Python that make it a popular choice for programming?\n",
        "Python is a highly popular programming language known for its versatility and ease of use. Several key features contribute to its popularity:\n",
        "\n",
        "Readable and Simple Syntax:\n",
        "\n",
        "Python's syntax is clear and easy to understand, which makes it an excellent choice for beginners.\n",
        "The use of indentation to define code blocks enhances readability.\n",
        "Interpreted Language:\n",
        "\n",
        "Python is an interpreted language, which means code is executed line by line. This allows for quick testing and debugging.\n",
        "Dynamic Typing:\n",
        "\n",
        "Variables in Python do not require an explicit declaration to reserve memory space. The declaration happens automatically when a value is assigned to a variable.\n",
        "Extensive Standard Library:\n",
        "\n",
        "Python comes with a vast standard library that includes modules and packages for various tasks, such as file I/O, system calls, and web development.\n",
        "Object-Oriented and Functional Programming:\n",
        "\n",
        "Python supports both object-oriented and functional programming paradigms, giving developers flexibility in how they approach problems.\n",
        "Cross-Platform Compatibility:\n",
        "\n",
        "Python is available on multiple operating systems, including Windows, macOS, and Linux, making it a versatile choice for cross-platform development.\n",
        "Support for Third-Party Modules:\n",
        "\n",
        "Python has a rich ecosystem of third-party libraries and frameworks, such as NumPy, Pandas, Django, and Flask, which extend its functionality for various applications, including data science, web development, and machine learning.\n",
        "Strong Community Support:\n",
        "\n",
        "Python has a large and active community, which means plenty of tutorials, documentation, and forums are available for support.\n",
        "Integration Capabilities:\n",
        "\n",
        "Python can easily integrate with other languages and technologies, such as C/C++, Java, and .NET, and it supports APIs for web services.\n",
        "Rapid Development and Prototyping:\n",
        "\n",
        "The combination of easy syntax and a vast library of tools makes Python ideal for rapid development and prototyping, allowing developers to quickly turn ideas into functional software.\n",
        "These features make Python a powerful and flexible tool for a wide range of applications, from simple scripts to complex machine learning algorithms.\n",
        "\n"
      ],
      "metadata": {
        "id": "YW0SnluI0Nt5"
      }
    },
    {
      "cell_type": "markdown",
      "source": [
        "### 2.  Describe the role of predefined keywords in Python and provide examples of how they are used in a  program\n",
        "Predefined keywords in Python, also known as reserved words, are words that have a specific meaning in the language's syntax. These keywords are reserved by Python and cannot be used for naming variables, functions, or other identifiers. They are fundamental to the structure of Python code and define how different operations are carried out, such as loops, conditional statements, function definitions, and more.\n",
        "\n",
        "Python has several predefined keywords such as if, else, while, for, def, return, import, and so on. Let's break down their role with examples.\n",
        "\n",
        "Common Python Keywords and Their Usage:"
      ],
      "metadata": {
        "id": "QFDECNU2FIDT"
      }
    },
    {
      "cell_type": "code",
      "source": [
        "#if, elif, else - Used for conditional statements:\n",
        "x = 10\n",
        "if x > 5:\n",
        "    print(\"x is greater than 5\")\n",
        "elif x == 5:\n",
        "    print(\"x is equal to 5\")\n",
        "else:\n",
        "    print(\"x is less than 5\")\n"
      ],
      "metadata": {
        "colab": {
          "base_uri": "https://localhost:8080/"
        },
        "id": "eYNu3J5MF4Cl",
        "outputId": "7d30a840-6640-43d3-c442-a1311ff513db"
      },
      "execution_count": 1,
      "outputs": [
        {
          "output_type": "stream",
          "name": "stdout",
          "text": [
            "x is greater than 5\n"
          ]
        }
      ]
    },
    {
      "cell_type": "code",
      "source": [
        "#for, in - Used for looping over a sequence (e.g., list, tuple, string):\n",
        "fruits = [\"apple\", \"banana\", \"cherry\"]\n",
        "for fruit in fruits:\n",
        "    print(fruit)\n"
      ],
      "metadata": {
        "colab": {
          "base_uri": "https://localhost:8080/"
        },
        "id": "b0egv-6-GE-q",
        "outputId": "30d3ff4c-1c0c-4aaf-8cd1-1c0b79174cab"
      },
      "execution_count": 2,
      "outputs": [
        {
          "output_type": "stream",
          "name": "stdout",
          "text": [
            "apple\n",
            "banana\n",
            "cherry\n"
          ]
        }
      ]
    },
    {
      "cell_type": "code",
      "source": [
        "#while - Used for loops with a condition:\n",
        "count = 0\n",
        "while count < 3:\n",
        "    print(\"Count is:\", count)\n",
        "    count += 1\n"
      ],
      "metadata": {
        "colab": {
          "base_uri": "https://localhost:8080/"
        },
        "id": "SizGgzh3GSu7",
        "outputId": "c71be894-4797-4585-af28-b56d253de5a7"
      },
      "execution_count": 3,
      "outputs": [
        {
          "output_type": "stream",
          "name": "stdout",
          "text": [
            "Count is: 0\n",
            "Count is: 1\n",
            "Count is: 2\n"
          ]
        }
      ]
    },
    {
      "cell_type": "markdown",
      "source": [
        "### Compare and contrast mutable and immutable objects in Python with example\n",
        "Mutable Objects\n",
        "Mutable objects are those whose values can be changed after they are created. If you modify a mutable object, you are changing the object itself in place, without creating a new one. Common mutable objects in Python include:\n",
        "\n",
        "Lists\n",
        "Dictionaries\n",
        "Sets\n",
        "User-defined classes (if they modify internal attributes)\n",
        "Example of Mutable Object (List):"
      ],
      "metadata": {
        "id": "u1t91mVbILqy"
      }
    },
    {
      "cell_type": "code",
      "source": [
        "my_list = [1, 2, 3]\n",
        "print(my_list)  # Output: [1, 2, 3]\n",
        "\n",
        "my_list[0] = 10  # Modifying the first element\n",
        "print(my_list)  # Output: [10, 2, 3]\n"
      ],
      "metadata": {
        "colab": {
          "base_uri": "https://localhost:8080/"
        },
        "id": "VuD82RTrIT5_",
        "outputId": "602d97e0-dc9f-43ee-a90f-ab288c1cf948"
      },
      "execution_count": 4,
      "outputs": [
        {
          "output_type": "stream",
          "name": "stdout",
          "text": [
            "[1, 2, 3]\n",
            "[10, 2, 3]\n"
          ]
        }
      ]
    },
    {
      "cell_type": "markdown",
      "source": [
        "In this example, we modified my_list by changing the first element. The list itself remains the same object in memory, but its contents are updated."
      ],
      "metadata": {
        "id": "cxsp2IhVIbGD"
      }
    },
    {
      "cell_type": "markdown",
      "source": [
        "Immutable Objects\n",
        "Immutable objects are those whose state cannot be modified after they are created. When you try to modify an immutable object, Python will create a new object instead of modifying the original one. Common immutable objects include:\n",
        "\n",
        "Integers\n",
        "Floats\n",
        "Strings\n",
        "Tuples\n",
        "Booleans\n",
        "Frozensets\n",
        "Example of Immutable Object (String):"
      ],
      "metadata": {
        "id": "Q2yjFEVvIo2P"
      }
    },
    {
      "cell_type": "code",
      "source": [
        "my_string = \"hello\"\n",
        "print(my_string)  # Output: hello\n",
        "\n",
        "my_string = my_string + \" world\"\n",
        "print(my_string)  # Output: hello world\n"
      ],
      "metadata": {
        "colab": {
          "base_uri": "https://localhost:8080/"
        },
        "id": "DS_CdF8VIqCS",
        "outputId": "6873a353-e54c-419b-b102-4054489f529c"
      },
      "execution_count": 6,
      "outputs": [
        {
          "output_type": "stream",
          "name": "stdout",
          "text": [
            "hello\n",
            "hello world\n"
          ]
        }
      ]
    },
    {
      "cell_type": "markdown",
      "source": [
        "In this case, attempting to modify an element of my_tuple would result in an error, as tuples are immutable."
      ],
      "metadata": {
        "id": "BNB4fPg-I0V0"
      }
    },
    {
      "cell_type": "markdown",
      "source": [
        "### 3. Discuss the different types of operators in Python and provide examples of how they are used.\n",
        "In Python, operators are special symbols or keywords used to perform operations on variables and values. Python provides various types of operators to perform different kinds of operations, and they can be categorized as follows:\n",
        "\n",
        "1. Arithmetic Operators\n",
        "Arithmetic operators are used to perform basic mathematical operations like addition, subtraction, multiplication, etc.\n",
        "\n",
        "Example:\n"
      ],
      "metadata": {
        "id": "lR9l_uOUJCZn"
      }
    },
    {
      "cell_type": "code",
      "source": [
        "a = 10\n",
        "b = 3\n",
        "print(a + b)  # Output: 13\n",
        "print(a ** b)  # Output: 1000 (10 raised to the power 3)\n"
      ],
      "metadata": {
        "colab": {
          "base_uri": "https://localhost:8080/"
        },
        "id": "Ba2B28-3K3f6",
        "outputId": "c4182447-bdc5-4bec-dc10-680c5a48a40d"
      },
      "execution_count": 7,
      "outputs": [
        {
          "output_type": "stream",
          "name": "stdout",
          "text": [
            "13\n",
            "1000\n"
          ]
        }
      ]
    },
    {
      "cell_type": "markdown",
      "source": [
        "2. Comparison (Relational) Operators\n",
        "Comparison operators are used to compare two values. They return True or False based on the comparison.\n",
        "Example:"
      ],
      "metadata": {
        "id": "JD5iG_WpK8TH"
      }
    },
    {
      "cell_type": "code",
      "source": [
        "a = 5\n",
        "b = 7\n",
        "print(a == b)  # Output: False\n",
        "print(a < b)  # Output: True\n"
      ],
      "metadata": {
        "colab": {
          "base_uri": "https://localhost:8080/"
        },
        "id": "rFmmf89qLE07",
        "outputId": "dba3ffe7-bb9c-406f-987a-4a871defbfe3"
      },
      "execution_count": 8,
      "outputs": [
        {
          "output_type": "stream",
          "name": "stdout",
          "text": [
            "False\n",
            "True\n"
          ]
        }
      ]
    },
    {
      "cell_type": "markdown",
      "source": [
        "3. Logical Operators\n",
        "Logical operators are used to combine conditional statements and return True or False.\n",
        "\n",
        "Example:"
      ],
      "metadata": {
        "id": "YDQJ8kkyLIKj"
      }
    },
    {
      "cell_type": "code",
      "source": [
        "x = True\n",
        "y = False\n",
        "print(x and y)  # Output: False\n",
        "print(x or y)  # Output: True\n",
        "print(not x)  # Output: False\n"
      ],
      "metadata": {
        "colab": {
          "base_uri": "https://localhost:8080/"
        },
        "id": "yHuubkjsLTXM",
        "outputId": "d1b6e59c-af72-441c-d841-4722654403cb"
      },
      "execution_count": 9,
      "outputs": [
        {
          "output_type": "stream",
          "name": "stdout",
          "text": [
            "False\n",
            "True\n",
            "False\n"
          ]
        }
      ]
    },
    {
      "cell_type": "markdown",
      "source": [
        "4. Assignment Operators\n",
        "Assignment operators are used to assign values to variables. They can also perform operations and assign the result to the variable in a shorthand notation.\n",
        "\n",
        "Example:"
      ],
      "metadata": {
        "id": "77JqLaJ5LXBx"
      }
    },
    {
      "cell_type": "code",
      "source": [
        "a = 5\n",
        "a += 2  # Equivalent to a = a + 2\n",
        "print(a)  # Output: 7\n"
      ],
      "metadata": {
        "colab": {
          "base_uri": "https://localhost:8080/"
        },
        "id": "0Swc_ZpcLdPl",
        "outputId": "2ffcb6be-2e49-4219-ef74-9f146de7c921"
      },
      "execution_count": 10,
      "outputs": [
        {
          "output_type": "stream",
          "name": "stdout",
          "text": [
            "7\n"
          ]
        }
      ]
    },
    {
      "cell_type": "markdown",
      "source": [
        "5. Bitwise Operators\n",
        "Bitwise operators work on binary digits and perform bit-by-bit operations.\n",
        "\n",
        "Example:"
      ],
      "metadata": {
        "id": "rUTBuS42LjM-"
      }
    },
    {
      "cell_type": "code",
      "source": [
        "a = 5  # Binary: 0101\n",
        "b = 3  # Binary: 0011\n",
        "print(a & b)  # Output: 1 (Binary: 0001)\n",
        "print(a | b)  # Output: 7 (Binary: 0111)\n"
      ],
      "metadata": {
        "colab": {
          "base_uri": "https://localhost:8080/"
        },
        "id": "3vPDRifOLli1",
        "outputId": "7f70af07-e05d-40ff-d465-7311343a6539"
      },
      "execution_count": 11,
      "outputs": [
        {
          "output_type": "stream",
          "name": "stdout",
          "text": [
            "1\n",
            "7\n"
          ]
        }
      ]
    },
    {
      "cell_type": "markdown",
      "source": [
        "6. Identity Operators\n",
        "Identity operators are used to check if two variables point to the same object in memory.\n",
        "\n",
        "Example:"
      ],
      "metadata": {
        "id": "1YbRdOO7Lo7F"
      }
    },
    {
      "cell_type": "code",
      "source": [
        "a = [1, 2, 3]\n",
        "b = a\n",
        "c = [1, 2, 3]\n",
        "print(a is b)  # Output: True (Both point to the same object)\n",
        "print(a is c)  # Output: False (They are different objects even with the same content)\n"
      ],
      "metadata": {
        "colab": {
          "base_uri": "https://localhost:8080/"
        },
        "id": "L40OjPBmLtEW",
        "outputId": "63abb831-3edb-4869-ff7f-00b416c9d033"
      },
      "execution_count": 12,
      "outputs": [
        {
          "output_type": "stream",
          "name": "stdout",
          "text": [
            "True\n",
            "False\n"
          ]
        }
      ]
    },
    {
      "cell_type": "markdown",
      "source": [
        "7. Membership Operators\n",
        "Membership operators are used to check whether a value is found in a sequence (such as a list, tuple, or string).\n",
        "\n",
        "Example:"
      ],
      "metadata": {
        "id": "FDz7El_ILv5k"
      }
    },
    {
      "cell_type": "code",
      "source": [
        "my_list = [1, 2, 3, 4]\n",
        "print(3 in my_list)  # Output: True\n",
        "print(5 not in my_list)  # Output: True\n"
      ],
      "metadata": {
        "colab": {
          "base_uri": "https://localhost:8080/"
        },
        "id": "uSquhiqGLzh4",
        "outputId": "7fc548b1-3e3f-4226-dd20-338b7e368b6d"
      },
      "execution_count": 13,
      "outputs": [
        {
          "output_type": "stream",
          "name": "stdout",
          "text": [
            "True\n",
            "True\n"
          ]
        }
      ]
    },
    {
      "cell_type": "markdown",
      "source": [
        "### 5. Explain the concept of type casting in Python with examples\n",
        "\n",
        "Type casting in Python refers to converting one data type into another. Python provides several built-in functions to achieve this. Type casting is particularly useful when you need to operate on variables that are of different types and require consistent types for specific operations.\n",
        "\n",
        "There are two types of type casting in Python:\n",
        "\n",
        "Implicit Type Casting (Automatic)\n",
        "Explicit Type Casting (Manual)\n",
        "1. Implicit Type Casting\n",
        "In implicit type casting, Python automatically converts one data type to another without any user intervention. This happens when Python promotes smaller types (like integers) to larger types (like floats) to avoid data loss in operations.\n",
        "\n",
        "Example of Implicit Type Casting:\n",
        "\n"
      ],
      "metadata": {
        "id": "8uSvfflxL43D"
      }
    },
    {
      "cell_type": "code",
      "source": [
        "x = 10    # Integer\n",
        "y = 2.5   # Float\n",
        "\n",
        "result = x + y  # Python automatically converts 'x' (int) to 'float'\n",
        "print(result)   # Output: 12.5\n",
        "print(type(result))  # Output: <class 'float'>\n"
      ],
      "metadata": {
        "colab": {
          "base_uri": "https://localhost:8080/"
        },
        "id": "6Dw-WmfEMUSy",
        "outputId": "328de8c3-bab2-4c54-ce4b-371c222dbf0c"
      },
      "execution_count": 14,
      "outputs": [
        {
          "output_type": "stream",
          "name": "stdout",
          "text": [
            "12.5\n",
            "<class 'float'>\n"
          ]
        }
      ]
    },
    {
      "cell_type": "markdown",
      "source": [
        "2. Explicit Type Casting\n",
        "Explicit type casting, or manual casting, occurs when the user explicitly converts one type to another using predefined functions.\n",
        "\n",
        "Python provides the following functions for explicit type casting:\n",
        "\n",
        "int() – Converts to an integer\n",
        "\n",
        "float() – Converts to a float\n",
        "\n",
        "str() – Converts to a string\n",
        "\n",
        "list() – Converts to a list\n",
        "\n",
        "tuple() – Converts to a tuple\n",
        "\n",
        "set() – Converts to a set\n",
        "\n",
        "dict() – Converts to a dictionary\n",
        "\n",
        "\n",
        "\n",
        "\n",
        "Example of Explicit Type Casting:"
      ],
      "metadata": {
        "id": "cIrneDdeMYxv"
      }
    },
    {
      "cell_type": "code",
      "source": [
        "# Convert float to integer\n",
        "a = 5.7\n",
        "b = int(a)  # Truncates decimal part\n",
        "print(b)    # Output: 5\n",
        "\n",
        "# Convert string to integer\n",
        "c = \"10\"\n",
        "d = int(c)  # Converts string to integer\n",
        "print(d)    # Output: 10\n",
        "\n",
        "# Convert integer to float\n",
        "e = 15\n",
        "f = float(e)  # Converts integer to float\n",
        "print(f)      # Output: 15.0\n",
        "\n",
        "# Convert list to tuple\n",
        "g = [1, 2, 3]\n",
        "h = tuple(g)\n",
        "print(h)  # Output: (1, 2, 3)\n",
        "\n",
        "# Convert tuple to list\n",
        "i = (4, 5, 6)\n",
        "j = list(i)\n",
        "print(j)  # Output: [4, 5, 6]\n"
      ],
      "metadata": {
        "colab": {
          "base_uri": "https://localhost:8080/"
        },
        "id": "maW4yHpiMopM",
        "outputId": "535090ea-c2da-4e81-b2b4-0000da4645de"
      },
      "execution_count": 15,
      "outputs": [
        {
          "output_type": "stream",
          "name": "stdout",
          "text": [
            "5\n",
            "10\n",
            "15.0\n",
            "(1, 2, 3)\n",
            "[4, 5, 6]\n"
          ]
        }
      ]
    },
    {
      "cell_type": "markdown",
      "source": [
        "Type Casting with Strings\n",
        "Converting String to Integer or Float:"
      ],
      "metadata": {
        "id": "vN2c232YMt5T"
      }
    },
    {
      "cell_type": "code",
      "source": [
        "num_str = \"123\"\n",
        "num_int = int(num_str)  # Convert string to integer\n",
        "print(num_int)  # Output: 123\n",
        "\n",
        "float_str = \"45.67\"\n",
        "num_float = float(float_str)  # Convert string to float\n",
        "print(num_float)  # Output: 45.67\n"
      ],
      "metadata": {
        "colab": {
          "base_uri": "https://localhost:8080/"
        },
        "id": "w21gmXY8Mw04",
        "outputId": "89fca44e-2276-428c-ec86-3935ca26ec49"
      },
      "execution_count": 16,
      "outputs": [
        {
          "output_type": "stream",
          "name": "stdout",
          "text": [
            "123\n",
            "45.67\n"
          ]
        }
      ]
    },
    {
      "cell_type": "markdown",
      "source": [
        "Converting Non-numeric String to Integer or Float:\n",
        "Attempting to convert a non-numeric string into an integer or float will raise an error."
      ],
      "metadata": {
        "id": "fPPE6EKZMz6Y"
      }
    },
    {
      "cell_type": "code",
      "source": [
        "num_str = \"abc\"\n",
        "# num_int = int(num_str)  # This will raise a ValueError: invalid literal for int()\n"
      ],
      "metadata": {
        "id": "sOaUnPW0M2i6"
      },
      "execution_count": 20,
      "outputs": []
    },
    {
      "cell_type": "markdown",
      "source": [
        "Why Type Casting is Important\n",
        "Data compatibility: Many functions and operations require inputs of specific data types. Type casting ensures that the correct type is provided.\n",
        "Preventing errors: Trying to perform operations on incompatible types (e.g., adding a string to an integer) can lead to errors. Type casting helps avoid such issues.\n",
        "Example: Type Casting to Perform Arithmetic"
      ],
      "metadata": {
        "id": "n3FjAMgSM6pL"
      }
    },
    {
      "cell_type": "code",
      "source": [
        "a = \"100\"\n",
        "b = 50\n",
        "\n",
        "# Without casting, this will raise a TypeError\n",
        "# result = a + b  # TypeError: can only concatenate str (not \"int\") to str\n",
        "\n",
        "# After casting the string 'a' to an integer\n",
        "result = int(a) + b\n",
        "print(result)  # Output: 150\n"
      ],
      "metadata": {
        "colab": {
          "base_uri": "https://localhost:8080/"
        },
        "id": "cnu4cv6RNFGK",
        "outputId": "d33ea161-29cf-4e44-9517-762203bb715e"
      },
      "execution_count": 21,
      "outputs": [
        {
          "output_type": "stream",
          "name": "stdout",
          "text": [
            "150\n"
          ]
        }
      ]
    },
    {
      "cell_type": "markdown",
      "source": [
        "In this example, converting the string a to an integer using int() makes it possible to add it to the integer b.\n",
        "\n",
        "Example: Type Casting a Float to an Integer"
      ],
      "metadata": {
        "id": "VjzHuU0_NIYF"
      }
    },
    {
      "cell_type": "code",
      "source": [
        "value = 9.8\n",
        "int_value = int(value)  # This will remove the decimal part\n",
        "print(int_value)  # Output: 9\n"
      ],
      "metadata": {
        "colab": {
          "base_uri": "https://localhost:8080/"
        },
        "id": "_YS1byysNLkX",
        "outputId": "5eb31ae6-9db0-46d8-9cac-f4496397d07a"
      },
      "execution_count": 22,
      "outputs": [
        {
          "output_type": "stream",
          "name": "stdout",
          "text": [
            "9\n"
          ]
        }
      ]
    },
    {
      "cell_type": "markdown",
      "source": [
        "Here, int() truncates the decimal part and converts the float to an integer.\n",
        "\n",
        "Important Notes:\n",
        "Loss of precision: When casting a float to an integer, the decimal part is lost (truncated), not rounded.\n",
        "TypeError: If you try to cast incompatible types (e.g., a string with letters to an integer), it will raise a TypeError or ValueError."
      ],
      "metadata": {
        "id": "A4nSaKoCNOuH"
      }
    },
    {
      "cell_type": "markdown",
      "source": [
        "### 6.   How do conditional statements work in Python? Illustrate with examples\n",
        "\n",
        "In Python, conditional statements allow a program to execute different blocks of code based on certain conditions. These conditions are evaluated as True or False. The most common conditional statements in Python are:\n",
        "\n",
        "if\n",
        "\n",
        "elif (short for \"else if\")\n",
        "\n",
        "else\n",
        "\n",
        "Syntax of Conditional Statements\n",
        "\n",
        "if statement:\n",
        "\n",
        "The if statement is used to check a condition. If the condition evaluates to True, the block of code under the if statement will be executed.\n",
        "elif statement:\n",
        "\n",
        "The elif (else if) statement is used to check multiple conditions. It will be checked only if the preceding if condition is False.\n",
        "else statement:\n",
        "\n",
        "The else statement is executed if all the preceding if and elif conditions are False.\n",
        "\n",
        "Example of a Basic Conditional Statement"
      ],
      "metadata": {
        "id": "hqoLcvm4NRXo"
      }
    },
    {
      "cell_type": "code",
      "source": [
        "x = 10\n",
        "\n",
        "if x > 0:\n",
        "    print(\"x is positive\")\n"
      ],
      "metadata": {
        "colab": {
          "base_uri": "https://localhost:8080/"
        },
        "id": "6_pjBmzxOZyz",
        "outputId": "8e484708-992c-426f-ca69-9d0c34c624c2"
      },
      "execution_count": 23,
      "outputs": [
        {
          "output_type": "stream",
          "name": "stdout",
          "text": [
            "x is positive\n"
          ]
        }
      ]
    },
    {
      "cell_type": "markdown",
      "source": [
        "Full Structure with if, elif, and else"
      ],
      "metadata": {
        "id": "RNkDtwyqOc-5"
      }
    },
    {
      "cell_type": "code",
      "source": [
        "x = 0\n",
        "\n",
        "if x > 0:\n",
        "    print(\"x is positive\")\n",
        "elif x == 0:\n",
        "    print(\"x is zero\")\n",
        "else:\n",
        "    print(\"x is negative\")\n"
      ],
      "metadata": {
        "colab": {
          "base_uri": "https://localhost:8080/"
        },
        "id": "L7YuCityOgr4",
        "outputId": "0b379ae8-db33-4ab5-997c-a015d420d2b0"
      },
      "execution_count": 24,
      "outputs": [
        {
          "output_type": "stream",
          "name": "stdout",
          "text": [
            "x is zero\n"
          ]
        }
      ]
    },
    {
      "cell_type": "markdown",
      "source": [
        "Conditional Statements with Multiple Conditions\n",
        "You can use logical operators like and, or, and not to combine multiple conditions in a single if statement.\n",
        "\n",
        "Example:"
      ],
      "metadata": {
        "id": "UIexOthZOnYw"
      }
    },
    {
      "cell_type": "code",
      "source": [
        "age = 25\n",
        "has_license = True\n",
        "\n",
        "if age >= 18 and has_license:\n",
        "    print(\"You are eligible to drive\")\n",
        "else:\n",
        "    print(\"You are not eligible to drive\")\n"
      ],
      "metadata": {
        "colab": {
          "base_uri": "https://localhost:8080/"
        },
        "id": "nJlLpWqVOolB",
        "outputId": "960e945a-5a38-497b-9dda-0b19fedd34fe"
      },
      "execution_count": 25,
      "outputs": [
        {
          "output_type": "stream",
          "name": "stdout",
          "text": [
            "You are eligible to drive\n"
          ]
        }
      ]
    },
    {
      "cell_type": "markdown",
      "source": [
        "Nested if Statements\n",
        "Conditional statements can be nested, meaning an if statement can be placed inside another if or else block.\n",
        "\n",
        "Example of Nested if:"
      ],
      "metadata": {
        "id": "-S3LSnG4Ourc"
      }
    },
    {
      "cell_type": "code",
      "source": [
        "num = 10\n",
        "\n",
        "if num >= 0:\n",
        "    if num == 0:\n",
        "        print(\"The number is zero\")\n",
        "    else:\n",
        "        print(\"The number is positive\")\n",
        "else:\n",
        "    print(\"The number is negative\")\n"
      ],
      "metadata": {
        "colab": {
          "base_uri": "https://localhost:8080/"
        },
        "id": "OK3nOxfFOvxu",
        "outputId": "e24b7c88-7e36-4789-fb5c-c28b0fe7bcd0"
      },
      "execution_count": 26,
      "outputs": [
        {
          "output_type": "stream",
          "name": "stdout",
          "text": [
            "The number is positive\n"
          ]
        }
      ]
    },
    {
      "cell_type": "markdown",
      "source": [
        "Using if-else for Multiple Conditions with elif\n",
        "When checking multiple conditions, using elif is often more efficient than nesting if statements.\n",
        "\n",
        "Example:"
      ],
      "metadata": {
        "id": "HRZSj6WdO0MV"
      }
    },
    {
      "cell_type": "code",
      "source": [
        "marks = 85\n",
        "\n",
        "if marks >= 90:\n",
        "    print(\"Grade: A\")\n",
        "elif marks >= 80:\n",
        "    print(\"Grade: B\")\n",
        "elif marks >= 70:\n",
        "    print(\"Grade: C\")\n",
        "else:\n",
        "    print(\"Grade: D\")\n"
      ],
      "metadata": {
        "colab": {
          "base_uri": "https://localhost:8080/"
        },
        "id": "J1826p80O1md",
        "outputId": "0f8286db-ec34-4bd5-ec52-0fd748401fbc"
      },
      "execution_count": 27,
      "outputs": [
        {
          "output_type": "stream",
          "name": "stdout",
          "text": [
            "Grade: B\n"
          ]
        }
      ]
    },
    {
      "cell_type": "markdown",
      "source": [
        "if with the not operator\n",
        "The not operator inverts the truth value of a condition.\n",
        "\n",
        "Example:"
      ],
      "metadata": {
        "id": "4xEn5reLO9R6"
      }
    },
    {
      "cell_type": "code",
      "source": [
        "is_raining = False\n",
        "\n",
        "if not is_raining:\n",
        "    print(\"You can go outside without an umbrella\")\n",
        "else:\n",
        "    print(\"Take an umbrella\")\n"
      ],
      "metadata": {
        "colab": {
          "base_uri": "https://localhost:8080/"
        },
        "id": "HnT5J4juO-WV",
        "outputId": "e0f88b2a-d34d-4164-d76f-852bad119f7f"
      },
      "execution_count": 28,
      "outputs": [
        {
          "output_type": "stream",
          "name": "stdout",
          "text": [
            "You can go outside without an umbrella\n"
          ]
        }
      ]
    },
    {
      "cell_type": "markdown",
      "source": [
        "Ternary Conditional (One-liner if-else)\n",
        "Python supports a shorthand way of writing if-else statements using a ternary conditional expression.\n",
        "\n",
        "Example:"
      ],
      "metadata": {
        "id": "fwMojubTPFg4"
      }
    },
    {
      "cell_type": "code",
      "source": [
        "age = 17\n",
        "message = \"Eligible to vote\" if age >= 18 else \"Not eligible to vote\"\n",
        "print(message)\n"
      ],
      "metadata": {
        "colab": {
          "base_uri": "https://localhost:8080/"
        },
        "id": "mamCd5vGPI_H",
        "outputId": "1e5ed5d7-8bfc-4e6d-8f49-52e026c0b7e7"
      },
      "execution_count": 29,
      "outputs": [
        {
          "output_type": "stream",
          "name": "stdout",
          "text": [
            "Not eligible to vote\n"
          ]
        }
      ]
    },
    {
      "cell_type": "markdown",
      "source": [
        "8. Describe the different types of loops in Python and their use cases with examples\n",
        "\n",
        "In Python, loops are used to repeatedly execute a block of code as long as a condition is true. There are two primary types of loops in Python:\n",
        "\n",
        "for loop\n",
        "while loop\n",
        "1. for Loop\n",
        "A for loop is used to iterate over a sequence (such as a list, tuple, string, or range) and execute a block of code for each item in the sequence.\n",
        "\n",
        "Example:\n",
        "\n"
      ],
      "metadata": {
        "id": "sjFtK4b2PQwx"
      }
    },
    {
      "cell_type": "code",
      "source": [
        "fruits = [\"apple\", \"banana\", \"cherry\"]\n",
        "\n",
        "for fruit in fruits:\n",
        "    print(fruit)\n"
      ],
      "metadata": {
        "colab": {
          "base_uri": "https://localhost:8080/"
        },
        "id": "yZSLRe31Pt66",
        "outputId": "5c7618e2-92a9-4058-c67c-740099ec10b5"
      },
      "execution_count": 30,
      "outputs": [
        {
          "output_type": "stream",
          "name": "stdout",
          "text": [
            "apple\n",
            "banana\n",
            "cherry\n"
          ]
        }
      ]
    },
    {
      "cell_type": "code",
      "source": [
        "for i in range(5):  # Range generates numbers from 0 to 4\n",
        "    print(i)\n"
      ],
      "metadata": {
        "colab": {
          "base_uri": "https://localhost:8080/"
        },
        "id": "4IHTSJhnP1tA",
        "outputId": "11c6f6e3-1903-4413-cfec-b6e0e2f04a07"
      },
      "execution_count": 33,
      "outputs": [
        {
          "output_type": "stream",
          "name": "stdout",
          "text": [
            "0\n",
            "1\n",
            "2\n",
            "3\n",
            "4\n"
          ]
        }
      ]
    },
    {
      "cell_type": "markdown",
      "source": [
        "Use cases for for loop:\n",
        "\n",
        "Iterating over items in a list, tuple, or dictionary.\n",
        "\n",
        "Executing a block of code a specific number of times.\n",
        "\n",
        "Iterating over the characters in a string.\n",
        "\n",
        "Example: Iterating over a string"
      ],
      "metadata": {
        "id": "75z_s9DNQTYD"
      }
    },
    {
      "cell_type": "code",
      "source": [
        "for letter in \"Python\":\n",
        "    print(letter)\n"
      ],
      "metadata": {
        "colab": {
          "base_uri": "https://localhost:8080/"
        },
        "id": "9ZMfZeeDQbNY",
        "outputId": "f50f7b0a-1cc2-447f-ae22-46ee4a18a88b"
      },
      "execution_count": 34,
      "outputs": [
        {
          "output_type": "stream",
          "name": "stdout",
          "text": [
            "P\n",
            "y\n",
            "t\n",
            "h\n",
            "o\n",
            "n\n"
          ]
        }
      ]
    },
    {
      "cell_type": "markdown",
      "source": [
        "2. while Loop\n",
        "\n",
        "A while loop repeatedly executes a block of code as long as a specified condition is True."
      ],
      "metadata": {
        "id": "o-vFuPbUQhOZ"
      }
    },
    {
      "cell_type": "code",
      "source": [
        "count = 1\n",
        "\n",
        "while count <= 5:\n",
        "    print(count)\n",
        "    count += 1\n"
      ],
      "metadata": {
        "colab": {
          "base_uri": "https://localhost:8080/"
        },
        "id": "kdV-14DmQk04",
        "outputId": "e246f6b0-7bee-476b-e904-30e9156256d8"
      },
      "execution_count": 35,
      "outputs": [
        {
          "output_type": "stream",
          "name": "stdout",
          "text": [
            "1\n",
            "2\n",
            "3\n",
            "4\n",
            "5\n"
          ]
        }
      ]
    },
    {
      "cell_type": "markdown",
      "source": [
        "Use cases for while loop:\n",
        "\n",
        "When you don’t know in advance how many times a loop needs to iterate.\n",
        "\n",
        "Executing a loop until a condition becomes False.\n",
        "\n",
        "Waiting for user input or handling continuous processes.\n",
        "\n",
        "3. Nested Loops\n",
        "\n",
        "A loop inside another loop is called a nested loop. Both for and while loops can be nested.\n",
        "\n",
        "Example of a Nested for Loop:"
      ],
      "metadata": {
        "id": "dzR4qn7dQnqy"
      }
    },
    {
      "cell_type": "code",
      "source": [
        "for i in range(3):\n",
        "    for j in range(2):\n",
        "        print(f\"i={i}, j={j}\")\n"
      ],
      "metadata": {
        "colab": {
          "base_uri": "https://localhost:8080/"
        },
        "id": "HHn9S9DMQwnN",
        "outputId": "a44f210d-96ed-41b6-d270-4a4d9c62caf2"
      },
      "execution_count": 36,
      "outputs": [
        {
          "output_type": "stream",
          "name": "stdout",
          "text": [
            "i=0, j=0\n",
            "i=0, j=1\n",
            "i=1, j=0\n",
            "i=1, j=1\n",
            "i=2, j=0\n",
            "i=2, j=1\n"
          ]
        }
      ]
    },
    {
      "cell_type": "markdown",
      "source": [
        "Use cases for Nested Loops:\n",
        "\n",
        "Iterating over multi-dimensional data structures like lists of lists (2D arrays).\n",
        "\n",
        "Performing operations on pairs or groups of elements.\n",
        "\n",
        "4. break and continue Statements\n",
        "\n",
        "break: Terminates the loop prematurely when a certain condition is met.\n",
        "\n",
        "continue: Skips the rest of the loop's code and proceeds to the next iteration.\n",
        "\n",
        "Example of break:\n"
      ],
      "metadata": {
        "id": "oD2ff_4HQ4JD"
      }
    },
    {
      "cell_type": "code",
      "source": [
        "for i in range(5):\n",
        "    if i == 3:\n",
        "        break  # Exit the loop when i equals 3\n",
        "    print(i)\n"
      ],
      "metadata": {
        "colab": {
          "base_uri": "https://localhost:8080/"
        },
        "id": "6FOD_dFdQ_WL",
        "outputId": "fce27bfa-e216-434a-cce2-ae98a0fa8776"
      },
      "execution_count": 37,
      "outputs": [
        {
          "output_type": "stream",
          "name": "stdout",
          "text": [
            "0\n",
            "1\n",
            "2\n"
          ]
        }
      ]
    },
    {
      "cell_type": "markdown",
      "source": [
        "Example of continue:"
      ],
      "metadata": {
        "id": "5oWpbIqVRC03"
      }
    },
    {
      "cell_type": "code",
      "source": [
        "for i in range(5):\n",
        "    if i == 3:\n",
        "        continue  # Skip the rest of the loop when i equals 3\n",
        "    print(i)\n"
      ],
      "metadata": {
        "colab": {
          "base_uri": "https://localhost:8080/"
        },
        "id": "lSQ8LmVzRFfI",
        "outputId": "65fe8494-9868-4e3d-c0d6-4b95370ed530"
      },
      "execution_count": 38,
      "outputs": [
        {
          "output_type": "stream",
          "name": "stdout",
          "text": [
            "0\n",
            "1\n",
            "2\n",
            "4\n"
          ]
        }
      ]
    },
    {
      "cell_type": "markdown",
      "source": [
        "5. else with Loops\n",
        "\n",
        "An else block can be used with both for and while loops. The code in the else block is executed when the loop finishes its iterations normally, but it is not executed if the loop is terminated by a break statement.\n",
        "\n",
        "Example of else with for loop:"
      ],
      "metadata": {
        "id": "Z3L6yv-FRJln"
      }
    },
    {
      "cell_type": "code",
      "source": [
        "for i in range(5):\n",
        "    print(i)\n",
        "else:\n",
        "    print(\"Loop completed successfully\")\n"
      ],
      "metadata": {
        "colab": {
          "base_uri": "https://localhost:8080/"
        },
        "id": "YOqFLEWeRLrb",
        "outputId": "449ee443-124f-490a-f6db-d7b3b98705e5"
      },
      "execution_count": 39,
      "outputs": [
        {
          "output_type": "stream",
          "name": "stdout",
          "text": [
            "0\n",
            "1\n",
            "2\n",
            "3\n",
            "4\n",
            "Loop completed successfully\n"
          ]
        }
      ]
    },
    {
      "cell_type": "markdown",
      "source": [
        "Example of else with while loop:"
      ],
      "metadata": {
        "id": "XxYuKcuXRN7t"
      }
    },
    {
      "cell_type": "code",
      "source": [
        "i = 0\n",
        "while i < 5:\n",
        "    print(i)\n",
        "    i += 1\n",
        "else:\n",
        "    print(\"Loop ended\")\n"
      ],
      "metadata": {
        "colab": {
          "base_uri": "https://localhost:8080/"
        },
        "id": "hdH7FaYrRRkc",
        "outputId": "f3645981-83c1-4fb2-a102-6a2940dd188d"
      },
      "execution_count": 40,
      "outputs": [
        {
          "output_type": "stream",
          "name": "stdout",
          "text": [
            "0\n",
            "1\n",
            "2\n",
            "3\n",
            "4\n",
            "Loop ended\n"
          ]
        }
      ]
    },
    {
      "cell_type": "markdown",
      "source": [
        "Example with break preventing the else block:"
      ],
      "metadata": {
        "id": "gjQsFuANRVc-"
      }
    },
    {
      "cell_type": "code",
      "source": [
        "for i in range(5):\n",
        "    if i == 3:\n",
        "        break\n",
        "    print(i)\n",
        "else:\n",
        "    print(\"Loop completed successfully\")\n"
      ],
      "metadata": {
        "colab": {
          "base_uri": "https://localhost:8080/"
        },
        "id": "utGUSuETRWVG",
        "outputId": "8d0a5590-9ac0-425c-c2a9-e36d02bb14f8"
      },
      "execution_count": 41,
      "outputs": [
        {
          "output_type": "stream",
          "name": "stdout",
          "text": [
            "0\n",
            "1\n",
            "2\n"
          ]
        }
      ]
    },
    {
      "cell_type": "markdown",
      "source": [
        "6. Infinite Loops\n",
        "\n",
        "An infinite loop runs indefinitely unless stopped. This usually happens when the loop's condition never becomes False.\n",
        "\n",
        "Example of an Infinite Loop:"
      ],
      "metadata": {
        "id": "-GKYL4S0RY5L"
      }
    },
    {
      "cell_type": "code",
      "source": [
        "while True:\n",
        "    print(\"This will run forever\")\n",
        "    break  # You can break the infinite loop with a condition\n"
      ],
      "metadata": {
        "colab": {
          "base_uri": "https://localhost:8080/"
        },
        "id": "SNW_IT2GRdEb",
        "outputId": "ddd366cf-84b2-458e-df97-91d672424460"
      },
      "execution_count": 42,
      "outputs": [
        {
          "output_type": "stream",
          "name": "stdout",
          "text": [
            "This will run forever\n"
          ]
        }
      ]
    }
  ]
}